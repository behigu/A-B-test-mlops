{
  "nbformat": 4,
  "nbformat_minor": 0,
  "metadata": {
    "colab": {
      "name": "SmartAd-Ad-campaign-performance.ipynb",
      "provenance": [],
      "collapsed_sections": [],
      "toc_visible": true,
      "authorship_tag": "ABX9TyNnBMAsR5JQlhM1K5RVNQxZ",
      "include_colab_link": true
    },
    "kernelspec": {
      "name": "python3",
      "display_name": "Python 3"
    },
    "language_info": {
      "name": "python"
    }
  },
  "cells": [
    {
      "cell_type": "markdown",
      "metadata": {
        "id": "view-in-github",
        "colab_type": "text"
      },
      "source": [
        "<a href=\"https://colab.research.google.com/github/behigu/A-B-test-mlops/blob/main/notebooks/SmartAd_Ad_campaign_performance.ipynb\" target=\"_parent\"><img src=\"https://colab.research.google.com/assets/colab-badge.svg\" alt=\"Open In Colab\"/></a>"
      ]
    },
    {
      "cell_type": "code",
      "metadata": {
        "id": "VVS5qr1S3b43"
      },
      "source": [
        ""
      ],
      "execution_count": null,
      "outputs": []
    },
    {
      "cell_type": "code",
      "metadata": {
        "colab": {
          "base_uri": "https://localhost:8080/"
        },
        "id": "zmdDJ6qv3pTt",
        "outputId": "acf3eac4-517f-4a2d-a363-5a55442e36a9"
      },
      "source": [
        "from google.colab import drive\n",
        "drive.mount('/content/drive')"
      ],
      "execution_count": null,
      "outputs": [
        {
          "output_type": "stream",
          "text": [
            "Mounted at /content/drive\n"
          ],
          "name": "stdout"
        }
      ]
    },
    {
      "cell_type": "code",
      "metadata": {
        "id": "ea_CcoqC34Sh"
      },
      "source": [
        "\n",
        "#import all necessary libraries\n",
        "import pandas as pd\n",
        "import numpy as np\n",
        "import matplotlib.pyplot as plt\n",
        "import scipy.stats as scs\n",
        "import statsmodels.api as sm\n",
        "import seaborn as sns\n",
        "from sklearn import preprocessing \n",
        "from sklearn.preprocessing import scale\n",
        "from scipy.stats import spearmanr\n",
        "from sklearn.preprocessing import MinMaxScaler\n",
        "from sklearn.model_selection import train_test_split\n",
        "from sklearn.linear_model import LogisticRegression\n",
        "from sklearn.tree import DecisionTreeClassifier\n",
        "from sklearn.model_selection import KFold\n",
        "from sklearn.model_selection import cross_val_score\n",
        "from sklearn.metrics import log_loss\n",
        "from sklearn import metrics\n",
        "from matplotlib import rcParams\n",
        "from matplotlib.pyplot import pie, axis, show\n",
        "from scipy.stats import norm\n",
        "import xgboost as xgb\n"
      ],
      "execution_count": null,
      "outputs": []
    },
    {
      "cell_type": "code",
      "metadata": {
        "id": "MZf4II9M38Jg"
      },
      "source": [
        "pd.set_option('max_column', None)\n",
        "df= pd.read_csv('drive/MyDrive/ColabNotebooks/AdSmartABdata.csv')"
      ],
      "execution_count": null,
      "outputs": []
    },
    {
      "cell_type": "code",
      "metadata": {
        "colab": {
          "base_uri": "https://localhost:8080/",
          "height": 133
        },
        "id": "SEw-_yib4jzX",
        "outputId": "fe0c3ec6-3cfa-4c4e-c16f-197371b5e489"
      },
      "source": [
        "df.head(3)"
      ],
      "execution_count": null,
      "outputs": [
        {
          "output_type": "execute_result",
          "data": {
            "text/html": [
              "<div>\n",
              "<style scoped>\n",
              "    .dataframe tbody tr th:only-of-type {\n",
              "        vertical-align: middle;\n",
              "    }\n",
              "\n",
              "    .dataframe tbody tr th {\n",
              "        vertical-align: top;\n",
              "    }\n",
              "\n",
              "    .dataframe thead th {\n",
              "        text-align: right;\n",
              "    }\n",
              "</style>\n",
              "<table border=\"1\" class=\"dataframe\">\n",
              "  <thead>\n",
              "    <tr style=\"text-align: right;\">\n",
              "      <th></th>\n",
              "      <th>auction_id</th>\n",
              "      <th>experiment</th>\n",
              "      <th>date</th>\n",
              "      <th>hour</th>\n",
              "      <th>device_make</th>\n",
              "      <th>platform_os</th>\n",
              "      <th>browser</th>\n",
              "      <th>yes</th>\n",
              "      <th>no</th>\n",
              "    </tr>\n",
              "  </thead>\n",
              "  <tbody>\n",
              "    <tr>\n",
              "      <th>0</th>\n",
              "      <td>0008ef63-77a7-448b-bd1e-075f42c55e39</td>\n",
              "      <td>exposed</td>\n",
              "      <td>2020-07-10</td>\n",
              "      <td>8</td>\n",
              "      <td>Generic Smartphone</td>\n",
              "      <td>6</td>\n",
              "      <td>Chrome Mobile</td>\n",
              "      <td>0</td>\n",
              "      <td>0</td>\n",
              "    </tr>\n",
              "    <tr>\n",
              "      <th>1</th>\n",
              "      <td>000eabc5-17ce-4137-8efe-44734d914446</td>\n",
              "      <td>exposed</td>\n",
              "      <td>2020-07-07</td>\n",
              "      <td>10</td>\n",
              "      <td>Generic Smartphone</td>\n",
              "      <td>6</td>\n",
              "      <td>Chrome Mobile</td>\n",
              "      <td>0</td>\n",
              "      <td>0</td>\n",
              "    </tr>\n",
              "    <tr>\n",
              "      <th>2</th>\n",
              "      <td>0016d14a-ae18-4a02-a204-6ba53b52f2ed</td>\n",
              "      <td>exposed</td>\n",
              "      <td>2020-07-05</td>\n",
              "      <td>2</td>\n",
              "      <td>E5823</td>\n",
              "      <td>6</td>\n",
              "      <td>Chrome Mobile WebView</td>\n",
              "      <td>0</td>\n",
              "      <td>1</td>\n",
              "    </tr>\n",
              "  </tbody>\n",
              "</table>\n",
              "</div>"
            ],
            "text/plain": [
              "                             auction_id experiment        date  hour  \\\n",
              "0  0008ef63-77a7-448b-bd1e-075f42c55e39    exposed  2020-07-10     8   \n",
              "1  000eabc5-17ce-4137-8efe-44734d914446    exposed  2020-07-07    10   \n",
              "2  0016d14a-ae18-4a02-a204-6ba53b52f2ed    exposed  2020-07-05     2   \n",
              "\n",
              "          device_make  platform_os                browser  yes  no  \n",
              "0  Generic Smartphone            6          Chrome Mobile    0   0  \n",
              "1  Generic Smartphone            6          Chrome Mobile    0   0  \n",
              "2               E5823            6  Chrome Mobile WebView    0   1  "
            ]
          },
          "metadata": {
            "tags": []
          },
          "execution_count": 8
        }
      ]
    },
    {
      "cell_type": "code",
      "metadata": {
        "colab": {
          "base_uri": "https://localhost:8080/"
        },
        "id": "6oxD6r0o4_Jw",
        "outputId": "c4e25bc7-1738-46ad-ce1f-315144958910"
      },
      "source": [
        "#get the dimension\n",
        "df.shape"
      ],
      "execution_count": null,
      "outputs": [
        {
          "output_type": "execute_result",
          "data": {
            "text/plain": [
              "(8077, 9)"
            ]
          },
          "metadata": {
            "tags": []
          },
          "execution_count": 12
        }
      ]
    },
    {
      "cell_type": "code",
      "metadata": {
        "colab": {
          "base_uri": "https://localhost:8080/"
        },
        "id": "YYTs9Jrg5Lhk",
        "outputId": "41dcabba-77c8-47f7-8f81-4df3b8f60b9d"
      },
      "source": [
        "#users who neither said \"yes\" nor \"no\"\n",
        "df[(df.yes == 0)&(df.no == 0)].shape"
      ],
      "execution_count": null,
      "outputs": [
        {
          "output_type": "execute_result",
          "data": {
            "text/plain": [
              "(6834, 9)"
            ]
          },
          "metadata": {
            "tags": []
          },
          "execution_count": 15
        }
      ]
    },
    {
      "cell_type": "markdown",
      "metadata": {
        "id": "kONNeM1I5k6f"
      },
      "source": [
        "The above output that out of the 8077 users 6834 chose not to respond to the survey, so we will work with those with a valid response."
      ]
    },
    {
      "cell_type": "code",
      "metadata": {
        "colab": {
          "base_uri": "https://localhost:8080/"
        },
        "id": "wfkPalbZ5U-z",
        "outputId": "6ee7847f-fb9c-4c35-dc52-f435c6559f69"
      },
      "source": [
        "#filter users who chose \"yes\" or \"no\"\n",
        "responded = df[(df.yes == 1)|(df.no == 1)].reset_index()\n",
        "#drop the index from the original dataset\n",
        "responded.drop('index', axis=1, inplace=True)\n",
        "responded.shape"
      ],
      "execution_count": null,
      "outputs": [
        {
          "output_type": "execute_result",
          "data": {
            "text/plain": [
              "(1243, 9)"
            ]
          },
          "metadata": {
            "tags": []
          },
          "execution_count": 16
        }
      ]
    },
    {
      "cell_type": "code",
      "metadata": {
        "colab": {
          "base_uri": "https://localhost:8080/"
        },
        "id": "NEP3DwIM54Yd",
        "outputId": "94dea9e2-ec5e-41ef-f177-184466127bd9"
      },
      "source": [
        "#get unique values of each column\n",
        "responded.nunique()"
      ],
      "execution_count": null,
      "outputs": [
        {
          "output_type": "execute_result",
          "data": {
            "text/plain": [
              "auction_id     1243\n",
              "experiment        2\n",
              "date              8\n",
              "hour             24\n",
              "device_make     115\n",
              "platform_os       2\n",
              "browser           8\n",
              "yes               2\n",
              "no                2\n",
              "dtype: int64"
            ]
          },
          "metadata": {
            "tags": []
          },
          "execution_count": 17
        }
      ]
    },
    {
      "cell_type": "code",
      "metadata": {
        "id": "4NjLz5Et5-BU"
      },
      "source": [
        "def count_plot(variable):\n",
        "    sns.countplot(x=variable, data=responded)\n",
        "    \n",
        "def bar_plot(variable):\n",
        "    sns.barplot(y=variable, x='yes', data=responded, orient='h')"
      ],
      "execution_count": null,
      "outputs": []
    },
    {
      "cell_type": "code",
      "metadata": {
        "colab": {
          "base_uri": "https://localhost:8080/",
          "height": 263
        },
        "id": "KhAQxrdd6K5b",
        "outputId": "ebeed89e-0e6e-499a-a97c-ee37031d8f17"
      },
      "source": [
        "sums = responded[\"yes\"].groupby(responded.experiment).sum()\n",
        "plt.title(\"experiment group count\")\n",
        "axis('equal');\n",
        "pie(sums, labels=sums.index);\n",
        "show()"
      ],
      "execution_count": null,
      "outputs": [
        {
          "output_type": "display_data",
          "data": {
            "image/png": "[encoded data removed]",
            "text/plain": [
              "<Figure size 432x288 with 1 Axes>"
            ]
          },
          "metadata": {
            "tags": []
          }
        }
      ]
    },
    {
      "cell_type": "code",
      "metadata": {
        "colab": {
          "base_uri": "https://localhost:8080/",
          "height": 621
        },
        "id": "weZik_fX6OVj",
        "outputId": "fdff92d6-40dd-4dd2-fa01-a72b915796f6"
      },
      "source": [
        "#plot value counts columns\n",
        "plt.figure(figsize=(15,10))\n",
        "plt.title(\"date count plot\")\n",
        "count_plot( \"date\")"
      ],
      "execution_count": null,
      "outputs": [
        {
          "output_type": "display_data",
          "data": {
            "image/png": "[encoded data removed]",
            "text/plain": [
              "<Figure size 1080x720 with 1 Axes>"
            ]
          },
          "metadata": {
            "tags": [],
            "needs_background": "light"
          }
        }
      ]
    },
    {
      "cell_type": "code",
      "metadata": {
        "colab": {
          "base_uri": "https://localhost:8080/",
          "height": 621
        },
        "id": "rjk7Iv8i6ain",
        "outputId": "e7be712d-6d5e-4c7a-99f1-2057529cef16"
      },
      "source": [
        "plt.figure(figsize=(15,10))\n",
        "plt.title(\"hour count plot\")\n",
        "count_plot( \"hour\")"
      ],
      "execution_count": null,
      "outputs": [
        {
          "output_type": "display_data",
          "data": {
            "image/png": "[encoded data removed]",
            "text/plain": [
              "<Figure size 1080x720 with 1 Axes>"
            ]
          },
          "metadata": {
            "tags": [],
            "needs_background": "light"
          }
        }
      ]
    },
    {
      "cell_type": "code",
      "metadata": {
        "colab": {
          "base_uri": "https://localhost:8080/",
          "height": 552
        },
        "id": "ptTZgnUE6h5P",
        "outputId": "ec17f5e8-e715-4490-df77-afe5b1da91b5"
      },
      "source": [
        "\n",
        "plt.figure(figsize=(25,10))\n",
        "plt.title(\"browser count plot\")\n",
        "count_plot(\"browser\")"
      ],
      "execution_count": null,
      "outputs": [
        {
          "output_type": "display_data",
          "data": {
            "image/png": "[encoded data removed]",
            "text/plain": [
              "<Figure size 1800x720 with 1 Axes>"
            ]
          },
          "metadata": {
            "tags": [],
            "needs_background": "light"
          }
        }
      ]
    },
    {
      "cell_type": "code",
      "metadata": {
        "colab": {
          "base_uri": "https://localhost:8080/",
          "height": 656
        },
        "id": "Xlxb7cHs6lDP",
        "outputId": "3b7afd55-511c-4875-adf2-a37e52ba0444"
      },
      "source": [
        "#rotate x-axis labels 90 degree\n",
        "plt.figure(figsize=(25,10))\n",
        "plt.xticks(rotation=90)\n",
        "plt.title(\"device_make count plot\")\n",
        "count_plot(\"device_make\")"
      ],
      "execution_count": null,
      "outputs": [
        {
          "output_type": "display_data",
          "data": {
            "image/png": "[encoded data removed]",
            "text/plain": [
              "<Figure size 1800x720 with 1 Axes>"
            ]
          },
          "metadata": {
            "tags": [],
            "needs_background": "light"
          }
        }
      ]
    },
    {
      "cell_type": "code",
      "metadata": {
        "colab": {
          "base_uri": "https://localhost:8080/",
          "height": 512
        },
        "id": "4QNFcr_A6503",
        "outputId": "3489b1e0-6fc9-49f6-d0fe-8fe357321f4e"
      },
      "source": [
        "#The plot below shows the portion of users who said \"yes\" per browser.\n",
        "plt.figure(figsize=(12,8))\n",
        "plt.title(\"browser vs yes count\")\n",
        "bar_plot('browser')"
      ],
      "execution_count": null,
      "outputs": [
        {
          "output_type": "display_data",
          "data": {
            "image/png": "[encoded data removed]",
            "text/plain": [
              "<Figure size 864x576 with 1 Axes>"
            ]
          },
          "metadata": {
            "tags": [],
            "needs_background": "light"
          }
        }
      ]
    },
    {
      "cell_type": "code",
      "metadata": {
        "colab": {
          "base_uri": "https://localhost:8080/",
          "height": 512
        },
        "id": "9Fk1AV4U7GAe",
        "outputId": "1bb1e695-d63a-40d1-904a-e9751df90ec4"
      },
      "source": [
        "#The plot below shows the portion of users who said \"yes\" per date.\n",
        "plt.figure(figsize=(12,8))\n",
        "plt.title(\"date vs yes count\")\n",
        "bar_plot('date')"
      ],
      "execution_count": null,
      "outputs": [
        {
          "output_type": "display_data",
          "data": {
            "image/png": "[encoded data removed]",
            "text/plain": [
              "<Figure size 864x576 with 1 Axes>"
            ]
          },
          "metadata": {
            "tags": [],
            "needs_background": "light"
          }
        }
      ]
    },
    {
      "cell_type": "code",
      "metadata": {
        "colab": {
          "base_uri": "https://localhost:8080/",
          "height": 730
        },
        "id": "YodJUUNK7XFy",
        "outputId": "423605ce-42a3-4095-c0a1-61f6098a8b84"
      },
      "source": [
        "#The plot below shows the portion of users who said \"yes\" per hour. It looks users responding at 23:00 o'clock, whatever their number, said \"yes\"\n",
        "plt.figure(figsize=(15,12))\n",
        "plt.title(\"hour vs yes count\")\n",
        "bar_plot('hour')"
      ],
      "execution_count": null,
      "outputs": [
        {
          "output_type": "display_data",
          "data": {
            "image/png": "[encoded data removed]",
            "text/plain": [
              "<Figure size 1080x864 with 1 Axes>"
            ]
          },
          "metadata": {
            "tags": [],
            "needs_background": "light"
          }
        }
      ]
    },
    {
      "cell_type": "code",
      "metadata": {
        "colab": {
          "base_uri": "https://localhost:8080/",
          "height": 403
        },
        "id": "QBB3q3xp7sdy",
        "outputId": "3496f83f-aeb1-4929-b3bc-72c66ad90345"
      },
      "source": [
        "#In the plot below, we can see that more users in the exposed group said yes than in control group. But we need to rely on the A/B test to confirm this.\n",
        "plt.figure(figsize=(8,6))\n",
        "plt.title(\"experiment vs yes count\")\n",
        "bar_plot('experiment')"
      ],
      "execution_count": null,
      "outputs": [
        {
          "output_type": "display_data",
          "data": {
            "image/png": "[encoded data removed]",
            "text/plain": [
              "<Figure size 576x432 with 1 Axes>"
            ]
          },
          "metadata": {
            "tags": [],
            "needs_background": "light"
          }
        }
      ]
    },
    {
      "cell_type": "code",
      "metadata": {
        "colab": {
          "base_uri": "https://localhost:8080/",
          "height": 162
        },
        "id": "2RHmLUJJ77bF",
        "outputId": "1095f44f-a13e-44fb-8c66-561d98e0c8f6"
      },
      "source": [
        "#Part 2: Classical A/B testing\n",
        "\n",
        "#Let's carry out classical A/B testing by calculating p-vale using statistical tests\n",
        "\n",
        "#subset of users with id and group only\n",
        "users = pd.DataFrame(data = responded[[\"auction_id\", \"experiment\"]])\n",
        "#add a column for the response\n",
        "users[\"converted\"] = responded.yes\n",
        "users.head(4)"
      ],
      "execution_count": null,
      "outputs": [
        {
          "output_type": "execute_result",
          "data": {
            "text/html": [
              "<div>\n",
              "<style scoped>\n",
              "    .dataframe tbody tr th:only-of-type {\n",
              "        vertical-align: middle;\n",
              "    }\n",
              "\n",
              "    .dataframe tbody tr th {\n",
              "        vertical-align: top;\n",
              "    }\n",
              "\n",
              "    .dataframe thead th {\n",
              "        text-align: right;\n",
              "    }\n",
              "</style>\n",
              "<table border=\"1\" class=\"dataframe\">\n",
              "  <thead>\n",
              "    <tr style=\"text-align: right;\">\n",
              "      <th></th>\n",
              "      <th>auction_id</th>\n",
              "      <th>experiment</th>\n",
              "      <th>converted</th>\n",
              "    </tr>\n",
              "  </thead>\n",
              "  <tbody>\n",
              "    <tr>\n",
              "      <th>0</th>\n",
              "      <td>0016d14a-ae18-4a02-a204-6ba53b52f2ed</td>\n",
              "      <td>exposed</td>\n",
              "      <td>0</td>\n",
              "    </tr>\n",
              "    <tr>\n",
              "      <th>1</th>\n",
              "      <td>008aafdf-deef-4482-8fec-d98e3da054da</td>\n",
              "      <td>exposed</td>\n",
              "      <td>1</td>\n",
              "    </tr>\n",
              "    <tr>\n",
              "      <th>2</th>\n",
              "      <td>00a1384a-5118-4d1b-925b-6cdada50318d</td>\n",
              "      <td>exposed</td>\n",
              "      <td>0</td>\n",
              "    </tr>\n",
              "    <tr>\n",
              "      <th>3</th>\n",
              "      <td>00b6fadb-10bd-49e3-a778-290da82f7a8d</td>\n",
              "      <td>control</td>\n",
              "      <td>1</td>\n",
              "    </tr>\n",
              "  </tbody>\n",
              "</table>\n",
              "</div>"
            ],
            "text/plain": [
              "                             auction_id experiment  converted\n",
              "0  0016d14a-ae18-4a02-a204-6ba53b52f2ed    exposed          0\n",
              "1  008aafdf-deef-4482-8fec-d98e3da054da    exposed          1\n",
              "2  00a1384a-5118-4d1b-925b-6cdada50318d    exposed          0\n",
              "3  00b6fadb-10bd-49e3-a778-290da82f7a8d    control          1"
            ]
          },
          "metadata": {
            "tags": []
          },
          "execution_count": 36
        }
      ]
    },
    {
      "cell_type": "code",
      "metadata": {
        "id": "wkA8y0fU8JDC"
      },
      "source": [
        "#separate the control and exposed groups\n",
        "exposed = users[users.experiment == 'exposed']\n",
        "control = users[users.experiment == 'control']"
      ],
      "execution_count": null,
      "outputs": []
    },
    {
      "cell_type": "code",
      "metadata": {
        "colab": {
          "base_uri": "https://localhost:8080/",
          "height": 133
        },
        "id": "8qB09Kpj8Uwb",
        "outputId": "d57452c5-e112-47a0-cfff-8c44f327e6a9"
      },
      "source": [
        "#pivot table to get the sum of converted users in each group\n",
        "summary = users.pivot_table(values='converted', index='experiment', aggfunc=np.sum)\n",
        "summary"
      ],
      "execution_count": null,
      "outputs": [
        {
          "output_type": "execute_result",
          "data": {
            "text/html": [
              "<div>\n",
              "<style scoped>\n",
              "    .dataframe tbody tr th:only-of-type {\n",
              "        vertical-align: middle;\n",
              "    }\n",
              "\n",
              "    .dataframe tbody tr th {\n",
              "        vertical-align: top;\n",
              "    }\n",
              "\n",
              "    .dataframe thead th {\n",
              "        text-align: right;\n",
              "    }\n",
              "</style>\n",
              "<table border=\"1\" class=\"dataframe\">\n",
              "  <thead>\n",
              "    <tr style=\"text-align: right;\">\n",
              "      <th></th>\n",
              "      <th>converted</th>\n",
              "    </tr>\n",
              "    <tr>\n",
              "      <th>experiment</th>\n",
              "      <th></th>\n",
              "    </tr>\n",
              "  </thead>\n",
              "  <tbody>\n",
              "    <tr>\n",
              "      <th>control</th>\n",
              "      <td>264</td>\n",
              "    </tr>\n",
              "    <tr>\n",
              "      <th>exposed</th>\n",
              "      <td>308</td>\n",
              "    </tr>\n",
              "  </tbody>\n",
              "</table>\n",
              "</div>"
            ],
            "text/plain": [
              "            converted\n",
              "experiment           \n",
              "control           264\n",
              "exposed           308"
            ]
          },
          "metadata": {
            "tags": []
          },
          "execution_count": 38
        }
      ]
    },
    {
      "cell_type": "code",
      "metadata": {
        "colab": {
          "base_uri": "https://localhost:8080/",
          "height": 133
        },
        "id": "qGFjJ-iq8YMB",
        "outputId": "6ae74df5-5699-4068-fc03-9b633b9715e8"
      },
      "source": [
        "# add additional columns to the pivot table\n",
        "summary['total'] = users.pivot_table(values='converted', index='experiment', aggfunc=lambda x: len(x))\n",
        "summary['rate'] = users.pivot_table(values='converted', index='experiment')\n",
        "summary"
      ],
      "execution_count": null,
      "outputs": [
        {
          "output_type": "execute_result",
          "data": {
            "text/html": [
              "<div>\n",
              "<style scoped>\n",
              "    .dataframe tbody tr th:only-of-type {\n",
              "        vertical-align: middle;\n",
              "    }\n",
              "\n",
              "    .dataframe tbody tr th {\n",
              "        vertical-align: top;\n",
              "    }\n",
              "\n",
              "    .dataframe thead th {\n",
              "        text-align: right;\n",
              "    }\n",
              "</style>\n",
              "<table border=\"1\" class=\"dataframe\">\n",
              "  <thead>\n",
              "    <tr style=\"text-align: right;\">\n",
              "      <th></th>\n",
              "      <th>converted</th>\n",
              "      <th>total</th>\n",
              "      <th>rate</th>\n",
              "    </tr>\n",
              "    <tr>\n",
              "      <th>experiment</th>\n",
              "      <th></th>\n",
              "      <th></th>\n",
              "      <th></th>\n",
              "    </tr>\n",
              "  </thead>\n",
              "  <tbody>\n",
              "    <tr>\n",
              "      <th>control</th>\n",
              "      <td>264</td>\n",
              "      <td>586</td>\n",
              "      <td>0.450512</td>\n",
              "    </tr>\n",
              "    <tr>\n",
              "      <th>exposed</th>\n",
              "      <td>308</td>\n",
              "      <td>657</td>\n",
              "      <td>0.468798</td>\n",
              "    </tr>\n",
              "  </tbody>\n",
              "</table>\n",
              "</div>"
            ],
            "text/plain": [
              "            converted  total      rate\n",
              "experiment                            \n",
              "control           264    586  0.450512\n",
              "exposed           308    657  0.468798"
            ]
          },
          "metadata": {
            "tags": []
          },
          "execution_count": 39
        }
      ]
    },
    {
      "cell_type": "code",
      "metadata": {
        "colab": {
          "base_uri": "https://localhost:8080/"
        },
        "id": "XUjvfzzj8eE_",
        "outputId": "868ba8a5-e775-47ce-f160-eb4adc5b09bb"
      },
      "source": [
        "control_converted = summary['converted'][0]\n",
        "control_total = summary['total'][0]\n",
        "control_rate = summary['rate'][0]\n",
        "\n",
        "exposed_converted = summary['converted'][1]\n",
        "exposed_total = summary['total'][1]\n",
        "exposed_rate = summary['rate'][1]\n",
        "\n",
        "rate_difference = exposed_rate-control_rate\n",
        "rate_difference"
      ],
      "execution_count": null,
      "outputs": [
        {
          "output_type": "execute_result",
          "data": {
            "text/plain": [
              "0.018285619295484168"
            ]
          },
          "metadata": {
            "tags": []
          },
          "execution_count": 41
        }
      ]
    },
    {
      "cell_type": "code",
      "metadata": {
        "colab": {
          "base_uri": "https://localhost:8080/",
          "height": 403
        },
        "id": "LKTSm1AW8kBP",
        "outputId": "1363d683-c075-4507-85cc-bf6d374f1bb1"
      },
      "source": [
        "fig, ax = plt.subplots(figsize=(12,6))\n",
        "x = np.linspace(summary.iloc[0,0]-49, summary.iloc[0,0]+50, 100)\n",
        "y = scs.binom(control_total, control_rate).pmf(x)\n",
        "ax.bar(x, y, alpha=0.5)\n",
        "ax.axvline(x=exposed_rate*580 , c='green', alpha=0.75, linestyle='--')\n",
        "#ax.axvline(x=exposed_rate*A_total, c='blue', alpha=0.75, linestyle='--')\n",
        "plt.xlabel('converted')\n",
        "plt.ylabel('probability')"
      ],
      "execution_count": null,
      "outputs": [
        {
          "output_type": "execute_result",
          "data": {
            "text/plain": [
              "Text(0, 0.5, 'probability')"
            ]
          },
          "metadata": {
            "tags": []
          },
          "execution_count": 112
        },
        {
          "output_type": "display_data",
          "data": {
            "image/png": "[encoded data removed]",
            "text/plain": [
              "<Figure size 864x432 with 1 Axes>"
            ]
          },
          "metadata": {
            "tags": [],
            "needs_background": "light"
          }
        }
      ]
    },
    {
      "cell_type": "code",
      "metadata": {
        "colab": {
          "base_uri": "https://localhost:8080/",
          "height": 403
        },
        "id": "vlMJmitZ8tVQ",
        "outputId": "082cd803-5f0e-4a1b-8909-1097a0950724"
      },
      "source": [
        "fig, ax = plt.subplots(figsize=(12,6))\n",
        "\n",
        "xC = np.linspace(control_converted-49, control_converted+50, 100)\n",
        "yC = scs.binom(control_total, control_rate).pmf(xC)\n",
        "ax.bar(xC, yC, label = \"Control\",alpha=0.5)\n",
        "\n",
        "xE = np.linspace(exposed_converted-49, exposed_converted+50, 100)\n",
        "yE = scs.binom(exposed_total, exposed_rate).pmf(xE)\n",
        "ax.bar(xE, yE, label = \"Exposed\",alpha=0.5)\n",
        "plt.legend()\n",
        "plt.xlabel('converted')\n",
        "plt.ylabel('probability')"
      ],
      "execution_count": null,
      "outputs": [
        {
          "output_type": "execute_result",
          "data": {
            "text/plain": [
              "Text(0, 0.5, 'probability')"
            ]
          },
          "metadata": {
            "tags": []
          },
          "execution_count": 49
        },
        {
          "output_type": "display_data",
          "data": {
            "image/png": "[encoded data removed]",
            "text/plain": [
              "<Figure size 864x432 with 1 Axes>"
            ]
          },
          "metadata": {
            "tags": [],
            "needs_background": "light"
          }
        }
      ]
    },
    {
      "cell_type": "code",
      "metadata": {
        "colab": {
          "base_uri": "https://localhost:8080/",
          "height": 223
        },
        "id": "TGviAgZF94GI",
        "outputId": "d1580c6b-37f3-41e1-b070-908d90081038"
      },
      "source": [
        "std_C = np.sqrt(ctrl_cr * (1-ctrl_cr)) / np.sqrt(ctrl_total)\n",
        "std_E = np.sqrt(exposed_rate * (1-exposed_rate)) / np.sqrt(exposed_total)\n",
        "\n",
        "# plot the null and alternative hypothesis\n",
        "fig, ax = plt.subplots(figsize=(12,6))\n",
        "x = np.linspace(.35, .6, 1000)\n",
        "\n",
        "yC = scs.norm(ctrl_cr, std_C).pdf(x)\n",
        "ax.plot(x, yC,label = \"Control\")\n",
        "ax.axvline(x=ctrl_cr, c='red', alpha=0.5, linestyle='--')\n",
        "\n",
        "yE = scs.norm(exposed_rate, std_E).pdf(x)\n",
        "ax.plot(x, yE,label = \"Exposed\")\n",
        "ax.axvline(x=exposed_rate, c='blue', alpha=0.5, linestyle='--')\n",
        "\n",
        "plt.legend()\n",
        "plt.xlabel('Converted rate')\n",
        "plt.ylabel('probablity')"
      ],
      "execution_count": null,
      "outputs": [
        {
          "output_type": "error",
          "ename": "NameError",
          "evalue": "ignored",
          "traceback": [
            "\u001b[0;31m---------------------------------------------------------------------------\u001b[0m",
            "\u001b[0;31mNameError\u001b[0m                                 Traceback (most recent call last)",
            "\u001b[0;32m<ipython-input-56-de5e4359d378>\u001b[0m in \u001b[0;36m<module>\u001b[0;34m()\u001b[0m\n\u001b[0;32m----> 1\u001b[0;31m \u001b[0mstd_C\u001b[0m \u001b[0;34m=\u001b[0m \u001b[0mnp\u001b[0m\u001b[0;34m.\u001b[0m\u001b[0msqrt\u001b[0m\u001b[0;34m(\u001b[0m\u001b[0mctrl_cr\u001b[0m \u001b[0;34m*\u001b[0m \u001b[0;34m(\u001b[0m\u001b[0;36m1\u001b[0m\u001b[0;34m-\u001b[0m\u001b[0mctrl_cr\u001b[0m\u001b[0;34m)\u001b[0m\u001b[0;34m)\u001b[0m \u001b[0;34m/\u001b[0m \u001b[0mnp\u001b[0m\u001b[0;34m.\u001b[0m\u001b[0msqrt\u001b[0m\u001b[0;34m(\u001b[0m\u001b[0mctrl_total\u001b[0m\u001b[0;34m)\u001b[0m\u001b[0;34m\u001b[0m\u001b[0;34m\u001b[0m\u001b[0m\n\u001b[0m\u001b[1;32m      2\u001b[0m \u001b[0mstd_E\u001b[0m \u001b[0;34m=\u001b[0m \u001b[0mnp\u001b[0m\u001b[0;34m.\u001b[0m\u001b[0msqrt\u001b[0m\u001b[0;34m(\u001b[0m\u001b[0mexposed_rate\u001b[0m \u001b[0;34m*\u001b[0m \u001b[0;34m(\u001b[0m\u001b[0;36m1\u001b[0m\u001b[0;34m-\u001b[0m\u001b[0mexposed_rate\u001b[0m\u001b[0;34m)\u001b[0m\u001b[0;34m)\u001b[0m \u001b[0;34m/\u001b[0m \u001b[0mnp\u001b[0m\u001b[0;34m.\u001b[0m\u001b[0msqrt\u001b[0m\u001b[0;34m(\u001b[0m\u001b[0mexposed_total\u001b[0m\u001b[0;34m)\u001b[0m\u001b[0;34m\u001b[0m\u001b[0;34m\u001b[0m\u001b[0m\n\u001b[1;32m      3\u001b[0m \u001b[0;34m\u001b[0m\u001b[0m\n\u001b[1;32m      4\u001b[0m \u001b[0;31m# plot the null and alternative hypothesis\u001b[0m\u001b[0;34m\u001b[0m\u001b[0;34m\u001b[0m\u001b[0;34m\u001b[0m\u001b[0m\n\u001b[1;32m      5\u001b[0m \u001b[0mfig\u001b[0m\u001b[0;34m,\u001b[0m \u001b[0max\u001b[0m \u001b[0;34m=\u001b[0m \u001b[0mplt\u001b[0m\u001b[0;34m.\u001b[0m\u001b[0msubplots\u001b[0m\u001b[0;34m(\u001b[0m\u001b[0mfigsize\u001b[0m\u001b[0;34m=\u001b[0m\u001b[0;34m(\u001b[0m\u001b[0;36m12\u001b[0m\u001b[0;34m,\u001b[0m\u001b[0;36m6\u001b[0m\u001b[0;34m)\u001b[0m\u001b[0;34m)\u001b[0m\u001b[0;34m\u001b[0m\u001b[0;34m\u001b[0m\u001b[0m\n",
            "\u001b[0;31mNameError\u001b[0m: name 'ctrl_cr' is not defined"
          ]
        }
      ]
    },
    {
      "cell_type": "code",
      "metadata": {
        "colab": {
          "base_uri": "https://localhost:8080/",
          "height": 223
        },
        "id": "A5p8lgOS-AdY",
        "outputId": "6dfff272-3e49-4f3a-ebc5-70e930b66864"
      },
      "source": [
        "z_score = (rate_difference) / np.sqrt(std_C**2 + std_E**2)\n",
        "p = norm(rate_difference, np.sqrt(std_C**2 + std_E**2))\n",
        "\n",
        "x = np.linspace(-0.15, 0.15, 1000)\n",
        "y = p.pdf(x)\n",
        "area_under_curve = p.sf(0)\n",
        "plt.plot(x, y, label=\"PDF\")\n",
        "plt.fill_between(x, 0, y, where=x>0, label=\"Prob(exp>ctrl)\", alpha=0.3)\n",
        "plt.annotate(f\"Area={area_under_curve:0.3f}\", (0.02, 5))\n",
        "plt.legend()\n",
        "plt.xlabel(\"Difference in conversion rate\"); plt.ylabel(\"Prob\");\n",
        "\n",
        "print(f\"zscore is {z_score:0.3f}, with p-value {norm().sf(z_score):0.3f}\")"
      ],
      "execution_count": null,
      "outputs": [
        {
          "output_type": "error",
          "ename": "NameError",
          "evalue": "ignored",
          "traceback": [
            "\u001b[0;31m---------------------------------------------------------------------------\u001b[0m",
            "\u001b[0;31mNameError\u001b[0m                                 Traceback (most recent call last)",
            "\u001b[0;32m<ipython-input-55-89613a70223b>\u001b[0m in \u001b[0;36m<module>\u001b[0;34m()\u001b[0m\n\u001b[0;32m----> 1\u001b[0;31m \u001b[0mz_score\u001b[0m \u001b[0;34m=\u001b[0m \u001b[0;34m(\u001b[0m\u001b[0mrate_difference\u001b[0m\u001b[0;34m)\u001b[0m \u001b[0;34m/\u001b[0m \u001b[0mnp\u001b[0m\u001b[0;34m.\u001b[0m\u001b[0msqrt\u001b[0m\u001b[0;34m(\u001b[0m\u001b[0mstd_C\u001b[0m\u001b[0;34m**\u001b[0m\u001b[0;36m2\u001b[0m \u001b[0;34m+\u001b[0m \u001b[0mstd_E\u001b[0m\u001b[0;34m**\u001b[0m\u001b[0;36m2\u001b[0m\u001b[0;34m)\u001b[0m\u001b[0;34m\u001b[0m\u001b[0;34m\u001b[0m\u001b[0m\n\u001b[0m\u001b[1;32m      2\u001b[0m \u001b[0mp\u001b[0m \u001b[0;34m=\u001b[0m \u001b[0mnorm\u001b[0m\u001b[0;34m(\u001b[0m\u001b[0mrate_difference\u001b[0m\u001b[0;34m,\u001b[0m \u001b[0mnp\u001b[0m\u001b[0;34m.\u001b[0m\u001b[0msqrt\u001b[0m\u001b[0;34m(\u001b[0m\u001b[0mstd_C\u001b[0m\u001b[0;34m**\u001b[0m\u001b[0;36m2\u001b[0m \u001b[0;34m+\u001b[0m \u001b[0mstd_E\u001b[0m\u001b[0;34m**\u001b[0m\u001b[0;36m2\u001b[0m\u001b[0;34m)\u001b[0m\u001b[0;34m)\u001b[0m\u001b[0;34m\u001b[0m\u001b[0;34m\u001b[0m\u001b[0m\n\u001b[1;32m      3\u001b[0m \u001b[0;34m\u001b[0m\u001b[0m\n\u001b[1;32m      4\u001b[0m \u001b[0mx\u001b[0m \u001b[0;34m=\u001b[0m \u001b[0mnp\u001b[0m\u001b[0;34m.\u001b[0m\u001b[0mlinspace\u001b[0m\u001b[0;34m(\u001b[0m\u001b[0;34m-\u001b[0m\u001b[0;36m0.15\u001b[0m\u001b[0;34m,\u001b[0m \u001b[0;36m0.15\u001b[0m\u001b[0;34m,\u001b[0m \u001b[0;36m1000\u001b[0m\u001b[0;34m)\u001b[0m\u001b[0;34m\u001b[0m\u001b[0;34m\u001b[0m\u001b[0m\n\u001b[1;32m      5\u001b[0m \u001b[0my\u001b[0m \u001b[0;34m=\u001b[0m \u001b[0mp\u001b[0m\u001b[0;34m.\u001b[0m\u001b[0mpdf\u001b[0m\u001b[0;34m(\u001b[0m\u001b[0mx\u001b[0m\u001b[0;34m)\u001b[0m\u001b[0;34m\u001b[0m\u001b[0;34m\u001b[0m\u001b[0m\n",
            "\u001b[0;31mNameError\u001b[0m: name 'std_C' is not defined"
          ]
        }
      ]
    },
    {
      "cell_type": "code",
      "metadata": {
        "colab": {
          "base_uri": "https://localhost:8080/"
        },
        "id": "tAJ-iS-M-wh2",
        "outputId": "34ece611-7c68-4036-beb9-4070803b95a2"
      },
      "source": [
        "def get_confidence_ab_test(a_c, num_a, b_c, num_b):\n",
        "    a_cr = a_c / num_a\n",
        "    b_cr = b_c / num_b\n",
        "    std_a = np.sqrt(a_cr * (1 - a_cr) / num_a)\n",
        "    std_b = np.sqrt(b_cr * (1 - b_cr) / num_b)\n",
        "    z_score = (b_cr - a_cr) / np.sqrt(std_a**2 + std_b**2)\n",
        "    return norm.cdf(z_score)\n",
        "\n",
        "print(get_confidence_ab_test(control_converted, control_total, exposed_converted, exposed_total))"
      ],
      "execution_count": null,
      "outputs": [
        {
          "output_type": "stream",
          "text": [
            "0.7408273254172715\n"
          ],
          "name": "stdout"
        }
      ]
    },
    {
      "cell_type": "code",
      "metadata": {
        "colab": {
          "base_uri": "https://localhost:8080/"
        },
        "id": "4-DFkGxL-3o5",
        "outputId": "4bd83f16-e029-4445-ac92-4ffdc4e797d5"
      },
      "source": [
        "def get_p_value(a_c, num_a, b_c, num_b):\n",
        "    a_cr = a_c / num_a\n",
        "    b_cr = b_c / num_b\n",
        "    std_a = np.sqrt(a_cr * (1 - a_cr) / num_a)\n",
        "    std_b = np.sqrt(b_cr * (1 - b_cr) / num_b)\n",
        "    z_score = (b_cr - a_cr) / np.sqrt(std_a**2 + std_b**2)\n",
        "    return norm.sf(z_score)\n",
        "\n",
        "print(get_p_value(control_converted, control_total, exposed_converted, exposed_total))"
      ],
      "execution_count": null,
      "outputs": [
        {
          "output_type": "stream",
          "text": [
            "0.2591726745827285\n"
          ],
          "name": "stdout"
        }
      ]
    },
    {
      "cell_type": "code",
      "metadata": {
        "colab": {
          "base_uri": "https://localhost:8080/",
          "height": 223
        },
        "id": "aYw07YWL--E5",
        "outputId": "7e942a03-7181-4a2c-8388-a421310223b0"
      },
      "source": [
        "n = 10000\n",
        "rates_a = norm(control_rate, std_C).rvs(n)\n",
        "rates_b = norm(exposed_rate, std_E).rvs(n)\n",
        "b_better = (rates_b > rates_a).sum() /n\n",
        "print(\"exposed is better than control {b_better * 100:0.1f}% of the time\")"
      ],
      "execution_count": null,
      "outputs": [
        {
          "output_type": "error",
          "ename": "NameError",
          "evalue": "ignored",
          "traceback": [
            "\u001b[0;31m---------------------------------------------------------------------------\u001b[0m",
            "\u001b[0;31mNameError\u001b[0m                                 Traceback (most recent call last)",
            "\u001b[0;32m<ipython-input-58-a1f5360abc24>\u001b[0m in \u001b[0;36m<module>\u001b[0;34m()\u001b[0m\n\u001b[1;32m      1\u001b[0m \u001b[0mn\u001b[0m \u001b[0;34m=\u001b[0m \u001b[0;36m10000\u001b[0m\u001b[0;34m\u001b[0m\u001b[0;34m\u001b[0m\u001b[0m\n\u001b[0;32m----> 2\u001b[0;31m \u001b[0mrates_a\u001b[0m \u001b[0;34m=\u001b[0m \u001b[0mnorm\u001b[0m\u001b[0;34m(\u001b[0m\u001b[0mcontrol_rate\u001b[0m\u001b[0;34m,\u001b[0m \u001b[0mstd_C\u001b[0m\u001b[0;34m)\u001b[0m\u001b[0;34m.\u001b[0m\u001b[0mrvs\u001b[0m\u001b[0;34m(\u001b[0m\u001b[0mn\u001b[0m\u001b[0;34m)\u001b[0m\u001b[0;34m\u001b[0m\u001b[0;34m\u001b[0m\u001b[0m\n\u001b[0m\u001b[1;32m      3\u001b[0m \u001b[0mrates_b\u001b[0m \u001b[0;34m=\u001b[0m \u001b[0mnorm\u001b[0m\u001b[0;34m(\u001b[0m\u001b[0mexposed_rate\u001b[0m\u001b[0;34m,\u001b[0m \u001b[0mstd_E\u001b[0m\u001b[0;34m)\u001b[0m\u001b[0;34m.\u001b[0m\u001b[0mrvs\u001b[0m\u001b[0;34m(\u001b[0m\u001b[0mn\u001b[0m\u001b[0;34m)\u001b[0m\u001b[0;34m\u001b[0m\u001b[0;34m\u001b[0m\u001b[0m\n\u001b[1;32m      4\u001b[0m \u001b[0mb_better\u001b[0m \u001b[0;34m=\u001b[0m \u001b[0;34m(\u001b[0m\u001b[0mrates_b\u001b[0m \u001b[0;34m>\u001b[0m \u001b[0mrates_a\u001b[0m\u001b[0;34m)\u001b[0m\u001b[0;34m.\u001b[0m\u001b[0msum\u001b[0m\u001b[0;34m(\u001b[0m\u001b[0;34m)\u001b[0m \u001b[0;34m/\u001b[0m\u001b[0mn\u001b[0m\u001b[0;34m\u001b[0m\u001b[0;34m\u001b[0m\u001b[0m\n\u001b[1;32m      5\u001b[0m \u001b[0mprint\u001b[0m\u001b[0;34m(\u001b[0m\u001b[0;34m\"exposed is better than control {b_better * 100:0.1f}% of the time\"\u001b[0m\u001b[0;34m)\u001b[0m\u001b[0;34m\u001b[0m\u001b[0;34m\u001b[0m\u001b[0m\n",
            "\u001b[0;31mNameError\u001b[0m: name 'std_C' is not defined"
          ]
        }
      ]
    },
    {
      "cell_type": "code",
      "metadata": {
        "colab": {
          "base_uri": "https://localhost:8080/"
        },
        "id": "m4h1o1nX_Af5",
        "outputId": "9b85b868-71f3-4505-888b-18cf48fdf9b1"
      },
      "source": [
        "a_dist = np.zeros(control_total)\n",
        "a_dist[:control_converted] = 1\n",
        "b_dist = np.zeros(exposed_total)\n",
        "b_dist[:exposed_converted] = 1\n",
        "zscore, prob = scs.ttest_ind(a_dist, b_dist, equal_var=True)\n",
        "print(f\"Zscore is {zscore:0.2f}, p-value is {prob:0.3f} (two tailed), {prob/2:0.3f} (one tailed)\")"
      ],
      "execution_count": null,
      "outputs": [
        {
          "output_type": "stream",
          "text": [
            "Zscore is -0.65, p-value is 0.519 (two tailed), 0.259 (one tailed)\n"
          ],
          "name": "stdout"
        }
      ]
    },
    {
      "cell_type": "code",
      "metadata": {
        "colab": {
          "base_uri": "https://localhost:8080/"
        },
        "id": "e6dXyxzn_Hbx",
        "outputId": "3f2eab96-39ce-4272-8068-a7e2e5fc9ccd"
      },
      "source": [
        "sm.stats.ztest(b_dist,a_dist,alternative=\"larger\")"
      ],
      "execution_count": null,
      "outputs": [
        {
          "output_type": "execute_result",
          "data": {
            "text/plain": [
              "(0.6452687398426953, 0.2593765234051756)"
            ]
          },
          "metadata": {
            "tags": []
          },
          "execution_count": 60
        }
      ]
    },
    {
      "cell_type": "code",
      "metadata": {
        "id": "R_LM33zf_JrF"
      },
      "source": [
        "#a code to calculate sample size (borrowed from github)\n",
        "def min_sample_size(control_rate, rate_difference, power=0.8, sig_level=0.05):\n",
        "    \"\"\"Returns the minimum sample size to set up a split test\n",
        "    Arguments:\n",
        "        control_rate (float): probability of success for control, sometimes\n",
        "        referred to as baseline conversion rate\n",
        "        rate_difference (float): minimum change in measurement between control\n",
        "        group and test group if alternative hypothesis is true, sometimes\n",
        "        referred to as minimum detectable effect\n",
        "        power (float): probability of rejecting the null hypothesis when the\n",
        "        null hypothesis is false, typically 0.8\n",
        "        sig_level (float): significance level often denoted as alpha,\n",
        "        typically 0.05\n",
        "    Returns:\n",
        "        min_N: minimum sample size (float)\n",
        "    References:\n",
        "        Stanford lecture on sample sizes\n",
        "        http://statweb.stanford.edu/~susan/courses/s141/hopower.pdf\n",
        "    \"\"\"\n",
        "    # standard normal distribution to determine z-values\n",
        "    standard_norm = scs.norm(0, 1)\n",
        "\n",
        "    # find Z_beta from desired power\n",
        "    Z_beta = standard_norm.ppf(power)\n",
        "\n",
        "    # find Z_alpha\n",
        "    Z_alpha = standard_norm.ppf(1-sig_level/2)\n",
        "\n",
        "    # average of probabilities from both groups\n",
        "    pooled_prob = (control_rate + control_rate+rate_difference) / 2\n",
        "\n",
        "    min_N = (2 * pooled_prob * (1 - pooled_prob) * (Z_beta + Z_alpha)**2\n",
        "             / rate_difference**2)\n",
        "\n",
        "    return min_N"
      ],
      "execution_count": null,
      "outputs": []
    },
    {
      "cell_type": "code",
      "metadata": {
        "colab": {
          "base_uri": "https://localhost:8080/"
        },
        "id": "xf4tvxWa_PIx",
        "outputId": "7be73c0f-11fc-4e94-f8f7-632f43f5892a"
      },
      "source": [
        "#use the above function to calculate the minimum sample size\n",
        "min_sample_size(control_rate,rate_difference)"
      ],
      "execution_count": null,
      "outputs": [
        {
          "output_type": "execute_result",
          "data": {
            "text/plain": [
              "11660.61386940473"
            ]
          },
          "metadata": {
            "tags": []
          },
          "execution_count": 62
        }
      ]
    },
    {
      "cell_type": "markdown",
      "metadata": {
        "id": "b7E_HTo3_iGe"
      },
      "source": [
        "Part 3: A/B testing using Machine Learning\n",
        "\n",
        "Preprocessing and Feature Engineering\n",
        "\n",
        "In this section we will\n",
        "\n",
        "1.   take the subset of the data to be modelled\n",
        "2.   encode categorical variables into numeric variables\n",
        "3. check the correlation between variables\n",
        "4. scale the variable\n",
        "5. check for missing values\n"
      ]
    },
    {
      "cell_type": "code",
      "metadata": {
        "id": "f_m0vpgS_SUY"
      },
      "source": [
        "#slice the data removing \"auction_id\" and \"no\" columns\n",
        "ml_data = responded.iloc[:,1:-1]"
      ],
      "execution_count": null,
      "outputs": []
    },
    {
      "cell_type": "code",
      "metadata": {
        "colab": {
          "base_uri": "https://localhost:8080/",
          "height": 391
        },
        "id": "3aJ3FUDR_yxM",
        "outputId": "0a093e51-60ea-406e-f666-540961846f68"
      },
      "source": [
        "# LabelEncoder encodes categorical values into numeric. \n",
        "encoder = preprocessing.LabelEncoder() \n",
        "\n",
        "# Encode all columns. \n",
        "ml_data['experiment']= encoder.fit_transform(ml_data['experiment'])\n",
        "ml_data['date']= encoder.fit_transform(ml_data['date'])\n",
        "ml_data['hour']= encoder.fit_transform(ml_data['hour'])\n",
        "ml_data['device_make']= encoder.fit_transform(ml_data['device_make'])\n",
        "ml_data['browser']= encoder.fit_transform(ml_data['browser'])\n",
        "ml_data"
      ],
      "execution_count": null,
      "outputs": [
        {
          "output_type": "execute_result",
          "data": {
            "text/html": [
              "<div>\n",
              "<style scoped>\n",
              "    .dataframe tbody tr th:only-of-type {\n",
              "        vertical-align: middle;\n",
              "    }\n",
              "\n",
              "    .dataframe tbody tr th {\n",
              "        vertical-align: top;\n",
              "    }\n",
              "\n",
              "    .dataframe thead th {\n",
              "        text-align: right;\n",
              "    }\n",
              "</style>\n",
              "<table border=\"1\" class=\"dataframe\">\n",
              "  <thead>\n",
              "    <tr style=\"text-align: right;\">\n",
              "      <th></th>\n",
              "      <th>experiment</th>\n",
              "      <th>date</th>\n",
              "      <th>hour</th>\n",
              "      <th>device_make</th>\n",
              "      <th>platform_os</th>\n",
              "      <th>browser</th>\n",
              "      <th>yes</th>\n",
              "    </tr>\n",
              "  </thead>\n",
              "  <tbody>\n",
              "    <tr>\n",
              "      <th>0</th>\n",
              "      <td>1</td>\n",
              "      <td>2</td>\n",
              "      <td>2</td>\n",
              "      <td>4</td>\n",
              "      <td>6</td>\n",
              "      <td>2</td>\n",
              "      <td>0</td>\n",
              "    </tr>\n",
              "    <tr>\n",
              "      <th>1</th>\n",
              "      <td>1</td>\n",
              "      <td>1</td>\n",
              "      <td>16</td>\n",
              "      <td>13</td>\n",
              "      <td>6</td>\n",
              "      <td>1</td>\n",
              "      <td>1</td>\n",
              "    </tr>\n",
              "    <tr>\n",
              "      <th>2</th>\n",
              "      <td>1</td>\n",
              "      <td>3</td>\n",
              "      <td>8</td>\n",
              "      <td>13</td>\n",
              "      <td>6</td>\n",
              "      <td>1</td>\n",
              "      <td>0</td>\n",
              "    </tr>\n",
              "    <tr>\n",
              "      <th>3</th>\n",
              "      <td>0</td>\n",
              "      <td>5</td>\n",
              "      <td>4</td>\n",
              "      <td>43</td>\n",
              "      <td>6</td>\n",
              "      <td>4</td>\n",
              "      <td>1</td>\n",
              "    </tr>\n",
              "    <tr>\n",
              "      <th>4</th>\n",
              "      <td>0</td>\n",
              "      <td>0</td>\n",
              "      <td>15</td>\n",
              "      <td>13</td>\n",
              "      <td>6</td>\n",
              "      <td>1</td>\n",
              "      <td>0</td>\n",
              "    </tr>\n",
              "    <tr>\n",
              "      <th>...</th>\n",
              "      <td>...</td>\n",
              "      <td>...</td>\n",
              "      <td>...</td>\n",
              "      <td>...</td>\n",
              "      <td>...</td>\n",
              "      <td>...</td>\n",
              "      <td>...</td>\n",
              "    </tr>\n",
              "    <tr>\n",
              "      <th>1238</th>\n",
              "      <td>1</td>\n",
              "      <td>2</td>\n",
              "      <td>21</td>\n",
              "      <td>13</td>\n",
              "      <td>6</td>\n",
              "      <td>1</td>\n",
              "      <td>1</td>\n",
              "    </tr>\n",
              "    <tr>\n",
              "      <th>1239</th>\n",
              "      <td>1</td>\n",
              "      <td>1</td>\n",
              "      <td>1</td>\n",
              "      <td>13</td>\n",
              "      <td>6</td>\n",
              "      <td>1</td>\n",
              "      <td>1</td>\n",
              "    </tr>\n",
              "    <tr>\n",
              "      <th>1240</th>\n",
              "      <td>0</td>\n",
              "      <td>6</td>\n",
              "      <td>7</td>\n",
              "      <td>13</td>\n",
              "      <td>6</td>\n",
              "      <td>1</td>\n",
              "      <td>0</td>\n",
              "    </tr>\n",
              "    <tr>\n",
              "      <th>1241</th>\n",
              "      <td>0</td>\n",
              "      <td>7</td>\n",
              "      <td>16</td>\n",
              "      <td>13</td>\n",
              "      <td>6</td>\n",
              "      <td>1</td>\n",
              "      <td>0</td>\n",
              "    </tr>\n",
              "    <tr>\n",
              "      <th>1242</th>\n",
              "      <td>1</td>\n",
              "      <td>0</td>\n",
              "      <td>4</td>\n",
              "      <td>13</td>\n",
              "      <td>6</td>\n",
              "      <td>1</td>\n",
              "      <td>0</td>\n",
              "    </tr>\n",
              "  </tbody>\n",
              "</table>\n",
              "<p>1243 rows × 7 columns</p>\n",
              "</div>"
            ],
            "text/plain": [
              "      experiment  date  hour  device_make  platform_os  browser  yes\n",
              "0              1     2     2            4            6        2    0\n",
              "1              1     1    16           13            6        1    1\n",
              "2              1     3     8           13            6        1    0\n",
              "3              0     5     4           43            6        4    1\n",
              "4              0     0    15           13            6        1    0\n",
              "...          ...   ...   ...          ...          ...      ...  ...\n",
              "1238           1     2    21           13            6        1    1\n",
              "1239           1     1     1           13            6        1    1\n",
              "1240           0     6     7           13            6        1    0\n",
              "1241           0     7    16           13            6        1    0\n",
              "1242           1     0     4           13            6        1    0\n",
              "\n",
              "[1243 rows x 7 columns]"
            ]
          },
          "metadata": {
            "tags": []
          },
          "execution_count": 64
        }
      ]
    },
    {
      "cell_type": "code",
      "metadata": {
        "colab": {
          "base_uri": "https://localhost:8080/"
        },
        "id": "K7etc-jw_1-T",
        "outputId": "14d5bdf5-0ef6-4f5b-93ae-bb1c573eaac8"
      },
      "source": [
        "#check if we have sufficient sample size\n",
        "ml_data.info()"
      ],
      "execution_count": null,
      "outputs": [
        {
          "output_type": "stream",
          "text": [
            "<class 'pandas.core.frame.DataFrame'>\n",
            "RangeIndex: 1243 entries, 0 to 1242\n",
            "Data columns (total 7 columns):\n",
            " #   Column       Non-Null Count  Dtype\n",
            "---  ------       --------------  -----\n",
            " 0   experiment   1243 non-null   int64\n",
            " 1   date         1243 non-null   int64\n",
            " 2   hour         1243 non-null   int64\n",
            " 3   device_make  1243 non-null   int64\n",
            " 4   platform_os  1243 non-null   int64\n",
            " 5   browser      1243 non-null   int64\n",
            " 6   yes          1243 non-null   int64\n",
            "dtypes: int64(7)\n",
            "memory usage: 68.1 KB\n"
          ],
          "name": "stdout"
        }
      ]
    },
    {
      "cell_type": "code",
      "metadata": {
        "colab": {
          "base_uri": "https://localhost:8080/",
          "height": 717
        },
        "id": "ZHaedn_N_4wq",
        "outputId": "69466280-ee1b-4ef0-b60d-bf1de6b76f31"
      },
      "source": [
        "#get correlation of the variables\n",
        "correlation = ml_data.corr()\n",
        "fig, ax = plt.subplots(figsize=(15,12))\n",
        "plt.title(\"correlation of variables\")\n",
        "sns.heatmap(correlation, annot=True)\n",
        "plt.show()"
      ],
      "execution_count": null,
      "outputs": [
        {
          "output_type": "display_data",
          "data": {
            "image/png": "[encoded data removed]",
            "text/plain": [
              "<Figure size 1080x864 with 2 Axes>"
            ]
          },
          "metadata": {
            "tags": [],
            "needs_background": "light"
          }
        }
      ]
    },
    {
      "cell_type": "code",
      "metadata": {
        "colab": {
          "base_uri": "https://localhost:8080/"
        },
        "id": "UnwpFHsz_8aB",
        "outputId": "e55ed599-5e5d-45c7-e93d-1e9e7218a1d7"
      },
      "source": [
        "#The variables are not very correlated, except for browser and device make, so we can drop either of the two. Here, we will drop device make. Let's do Spearmans test before dropping them...\n",
        "browser = ml_data.browser\n",
        "device_make = ml_data.device_make\n",
        "sp_c = spearmanr(browser, device_make)\n",
        "print(sp_c)"
      ],
      "execution_count": null,
      "outputs": [
        {
          "output_type": "stream",
          "text": [
            "SpearmanrResult(correlation=0.7731806159739668, pvalue=1.0404361256299832e-247)\n"
          ],
          "name": "stdout"
        }
      ]
    },
    {
      "cell_type": "code",
      "metadata": {
        "id": "lShCUKMBANdm"
      },
      "source": [
        "#drop device_make column since it is correlated with browser\n",
        "ml_data.drop(\"device_make\", axis=1, inplace=True)"
      ],
      "execution_count": null,
      "outputs": []
    },
    {
      "cell_type": "code",
      "metadata": {
        "colab": {
          "base_uri": "https://localhost:8080/"
        },
        "id": "glHQq9LzAPsv",
        "outputId": "aa756d9c-ec4c-4c80-88ea-69e32a5af7dc"
      },
      "source": [
        "#checking for missing values\n",
        "ml_data.isnull().sum()"
      ],
      "execution_count": null,
      "outputs": [
        {
          "output_type": "execute_result",
          "data": {
            "text/plain": [
              "experiment     0\n",
              "date           0\n",
              "hour           0\n",
              "platform_os    0\n",
              "browser        0\n",
              "yes            0\n",
              "dtype: int64"
            ]
          },
          "metadata": {
            "tags": []
          },
          "execution_count": 71
        }
      ]
    },
    {
      "cell_type": "code",
      "metadata": {
        "colab": {
          "base_uri": "https://localhost:8080/",
          "height": 528
        },
        "id": "aSidpW1dAR0S",
        "outputId": "58859890-47aa-4934-bca7-4d07dc6e455a"
      },
      "source": [
        "#MAking sure the target value is binary\n",
        "fig, ax = plt.subplots(figsize=(10,8))\n",
        "plt.title(\"value counts of yes column\")\n",
        "sns.countplot(x = \"yes\", data=ml_data)"
      ],
      "execution_count": null,
      "outputs": [
        {
          "output_type": "execute_result",
          "data": {
            "text/plain": [
              "<matplotlib.axes._subplots.AxesSubplot at 0x7f14e236e510>"
            ]
          },
          "metadata": {
            "tags": []
          },
          "execution_count": 72
        },
        {
          "output_type": "display_data",
          "data": {
            "image/png": "[encoded data removed]",
            "text/plain": [
              "<Figure size 720x576 with 1 Axes>"
            ]
          },
          "metadata": {
            "tags": [],
            "needs_background": "light"
          }
        }
      ]
    },
    {
      "cell_type": "code",
      "metadata": {
        "colab": {
          "base_uri": "https://localhost:8080/",
          "height": 162
        },
        "id": "Xzl7kkQUAZjf",
        "outputId": "afbfcf1f-1124-402d-96dd-41d2e5f9a946"
      },
      "source": [
        "#nowthe variables are all numeric\n",
        "ml_data.head(4)"
      ],
      "execution_count": null,
      "outputs": [
        {
          "output_type": "execute_result",
          "data": {
            "text/html": [
              "<div>\n",
              "<style scoped>\n",
              "    .dataframe tbody tr th:only-of-type {\n",
              "        vertical-align: middle;\n",
              "    }\n",
              "\n",
              "    .dataframe tbody tr th {\n",
              "        vertical-align: top;\n",
              "    }\n",
              "\n",
              "    .dataframe thead th {\n",
              "        text-align: right;\n",
              "    }\n",
              "</style>\n",
              "<table border=\"1\" class=\"dataframe\">\n",
              "  <thead>\n",
              "    <tr style=\"text-align: right;\">\n",
              "      <th></th>\n",
              "      <th>experiment</th>\n",
              "      <th>date</th>\n",
              "      <th>hour</th>\n",
              "      <th>platform_os</th>\n",
              "      <th>browser</th>\n",
              "      <th>yes</th>\n",
              "    </tr>\n",
              "  </thead>\n",
              "  <tbody>\n",
              "    <tr>\n",
              "      <th>0</th>\n",
              "      <td>1</td>\n",
              "      <td>2</td>\n",
              "      <td>2</td>\n",
              "      <td>6</td>\n",
              "      <td>2</td>\n",
              "      <td>0</td>\n",
              "    </tr>\n",
              "    <tr>\n",
              "      <th>1</th>\n",
              "      <td>1</td>\n",
              "      <td>1</td>\n",
              "      <td>16</td>\n",
              "      <td>6</td>\n",
              "      <td>1</td>\n",
              "      <td>1</td>\n",
              "    </tr>\n",
              "    <tr>\n",
              "      <th>2</th>\n",
              "      <td>1</td>\n",
              "      <td>3</td>\n",
              "      <td>8</td>\n",
              "      <td>6</td>\n",
              "      <td>1</td>\n",
              "      <td>0</td>\n",
              "    </tr>\n",
              "    <tr>\n",
              "      <th>3</th>\n",
              "      <td>0</td>\n",
              "      <td>5</td>\n",
              "      <td>4</td>\n",
              "      <td>6</td>\n",
              "      <td>4</td>\n",
              "      <td>1</td>\n",
              "    </tr>\n",
              "  </tbody>\n",
              "</table>\n",
              "</div>"
            ],
            "text/plain": [
              "   experiment  date  hour  platform_os  browser  yes\n",
              "0           1     2     2            6        2    0\n",
              "1           1     1    16            6        1    1\n",
              "2           1     3     8            6        1    0\n",
              "3           0     5     4            6        4    1"
            ]
          },
          "metadata": {
            "tags": []
          },
          "execution_count": 73
        }
      ]
    },
    {
      "cell_type": "code",
      "metadata": {
        "colab": {
          "base_uri": "https://localhost:8080/",
          "height": 162
        },
        "id": "mdOAcUAsAb_u",
        "outputId": "caacdf5e-c768-4c3a-f397-36fa16dd1bfd"
      },
      "source": [
        "#Scalling the variables to be between 0 and 1\n",
        "scaler = MinMaxScaler()\n",
        "scaled = pd.DataFrame(scaler.fit_transform(ml_data), columns=(\"experiment\",\"date\",\"hour\",\"platform_os\",\"browser\",\"yes\"))\n",
        "scaled.head(4)"
      ],
      "execution_count": null,
      "outputs": [
        {
          "output_type": "execute_result",
          "data": {
            "text/html": [
              "<div>\n",
              "<style scoped>\n",
              "    .dataframe tbody tr th:only-of-type {\n",
              "        vertical-align: middle;\n",
              "    }\n",
              "\n",
              "    .dataframe tbody tr th {\n",
              "        vertical-align: top;\n",
              "    }\n",
              "\n",
              "    .dataframe thead th {\n",
              "        text-align: right;\n",
              "    }\n",
              "</style>\n",
              "<table border=\"1\" class=\"dataframe\">\n",
              "  <thead>\n",
              "    <tr style=\"text-align: right;\">\n",
              "      <th></th>\n",
              "      <th>experiment</th>\n",
              "      <th>date</th>\n",
              "      <th>hour</th>\n",
              "      <th>platform_os</th>\n",
              "      <th>browser</th>\n",
              "      <th>yes</th>\n",
              "    </tr>\n",
              "  </thead>\n",
              "  <tbody>\n",
              "    <tr>\n",
              "      <th>0</th>\n",
              "      <td>1.0</td>\n",
              "      <td>0.285714</td>\n",
              "      <td>0.086957</td>\n",
              "      <td>1.0</td>\n",
              "      <td>0.285714</td>\n",
              "      <td>0.0</td>\n",
              "    </tr>\n",
              "    <tr>\n",
              "      <th>1</th>\n",
              "      <td>1.0</td>\n",
              "      <td>0.142857</td>\n",
              "      <td>0.695652</td>\n",
              "      <td>1.0</td>\n",
              "      <td>0.142857</td>\n",
              "      <td>1.0</td>\n",
              "    </tr>\n",
              "    <tr>\n",
              "      <th>2</th>\n",
              "      <td>1.0</td>\n",
              "      <td>0.428571</td>\n",
              "      <td>0.347826</td>\n",
              "      <td>1.0</td>\n",
              "      <td>0.142857</td>\n",
              "      <td>0.0</td>\n",
              "    </tr>\n",
              "    <tr>\n",
              "      <th>3</th>\n",
              "      <td>0.0</td>\n",
              "      <td>0.714286</td>\n",
              "      <td>0.173913</td>\n",
              "      <td>1.0</td>\n",
              "      <td>0.571429</td>\n",
              "      <td>1.0</td>\n",
              "    </tr>\n",
              "  </tbody>\n",
              "</table>\n",
              "</div>"
            ],
            "text/plain": [
              "   experiment      date      hour  platform_os   browser  yes\n",
              "0         1.0  0.285714  0.086957          1.0  0.285714  0.0\n",
              "1         1.0  0.142857  0.695652          1.0  0.142857  1.0\n",
              "2         1.0  0.428571  0.347826          1.0  0.142857  0.0\n",
              "3         0.0  0.714286  0.173913          1.0  0.571429  1.0"
            ]
          },
          "metadata": {
            "tags": []
          },
          "execution_count": 74
        }
      ]
    },
    {
      "cell_type": "code",
      "metadata": {
        "id": "jU8irHj-AeKF"
      },
      "source": [
        "#We now split the data into training, validating and testing sets\n",
        "#Separate the pridictor and target variables\n",
        "X = scaled.iloc[:,:-1]\n",
        "Y = scaled.iloc[:,-1]"
      ],
      "execution_count": null,
      "outputs": []
    },
    {
      "cell_type": "code",
      "metadata": {
        "id": "5gBjmolpAiwj"
      },
      "source": [
        "#Use the train_test_split twice to split the data into three groups\n",
        "X_train, X_test, Y_train, Y_test = train_test_split(X, Y, test_size=0.1, random_state=1)\n",
        "\n",
        "# 0.23 x 0.9 = 0.2007\n",
        "X_train, X_val, Y_train, Y_val = train_test_split(X_train, Y_train, test_size=0.23, random_state=1)"
      ],
      "execution_count": null,
      "outputs": []
    },
    {
      "cell_type": "code",
      "metadata": {
        "id": "fFzf3ezlAlUx"
      },
      "source": [
        "#set our k-fold cross validation\n",
        "k_fold = KFold(n_splits=5, shuffle=True, random_state=100)"
      ],
      "execution_count": null,
      "outputs": []
    },
    {
      "cell_type": "markdown",
      "metadata": {
        "id": "L3Q9WxhPArGD"
      },
      "source": [
        "since all classifiers models can use logarithmic loss function, we can define functions for all models as below."
      ]
    },
    {
      "cell_type": "code",
      "metadata": {
        "id": "oBEdNY9UAnR4"
      },
      "source": [
        "#calculate the models loss and returns it\n",
        "def calculate_loss(model):\n",
        "    model = model\n",
        "    # predict probabilities\n",
        "    probs = model.predict_proba(X_val)\n",
        "    # keep the predictions for class 1 only\n",
        "    probs = probs[:, 1]\n",
        "    # calculate log loss\n",
        "    loss = log_loss(Y_val, probs)*100\n",
        "    print(\"Loss: %.2f\"%loss, \"%\")    \n",
        "\n",
        "#plots feature importance from the model \n",
        "def plot_feature_importance(importance):\n",
        "    plt.title(\"feature importance\")\n",
        "    plt.xlabel(\"features\")\n",
        "    plt.ylabel(\"importance\")\n",
        "    plt.bar(X_train.columns, importance)\n",
        "    plt.show()\n",
        "\n",
        "#returns prediction dataframe using the model\n",
        "def print_predicted(model):\n",
        "    prediction = model.predict(X_test)\n",
        "    predicted_values = pd.DataFrame({\"experiment\" : X_test.experiment,\"actual\" : Y_test,\"predicted\" : prediction})\n",
        "    return predicted_values\n",
        "\n",
        "#returns the confusion martix for the model\n",
        "def confusion_matrix(model):\n",
        "    prediction = model.predict(X_test)\n",
        "    return metrics.confusion_matrix(Y_test, prediction)\n",
        "\n",
        "#returns the mean accuracy of the k-fold iterations\n",
        "def print_accuracy(model):\n",
        "    accuracy = cross_val_score(model, X_train, Y_train, cv=k_fold, scoring= 'accuracy').mean()*100\n",
        "    print(\"Accuracy: %.2f\"%accuracy, \"%\")"
      ],
      "execution_count": null,
      "outputs": []
    },
    {
      "cell_type": "markdown",
      "metadata": {
        "id": "kcWQPCTdA0VQ"
      },
      "source": [
        "We first use Logistic regression to model the data and see it's accuracy."
      ]
    },
    {
      "cell_type": "code",
      "metadata": {
        "colab": {
          "base_uri": "https://localhost:8080/"
        },
        "id": "bPc4OJT6AwEN",
        "outputId": "3c72d45c-dce9-44e7-e637-6a3a50f46f9b"
      },
      "source": [
        "#Use logistic regression from sklearn\n",
        "log_regression = LogisticRegression()\n",
        "#fit the training data into the model\n",
        "log_regression.fit(X_train,Y_train)\n",
        "#printing the mean accuracy of all iterations of the k-fold\n",
        "print_accuracy(log_regression)"
      ],
      "execution_count": null,
      "outputs": [
        {
          "output_type": "stream",
          "text": [
            "Accuracy: 55.00 %\n"
          ],
          "name": "stdout"
        }
      ]
    },
    {
      "cell_type": "code",
      "metadata": {
        "colab": {
          "base_uri": "https://localhost:8080/"
        },
        "id": "zO7NoafJA3if",
        "outputId": "1dce0ab0-60be-44c9-a9fb-09bef4f1f727"
      },
      "source": [
        "#calculating loss\n",
        "calculate_loss(log_regression)"
      ],
      "execution_count": null,
      "outputs": [
        {
          "output_type": "stream",
          "text": [
            "Loss: 70.42 %\n"
          ],
          "name": "stdout"
        }
      ]
    },
    {
      "cell_type": "markdown",
      "metadata": {
        "id": "o6iXMDMeA-ct"
      },
      "source": [
        "The model is performing poorly with accuracy 55% and loss 70.42%"
      ]
    },
    {
      "cell_type": "code",
      "metadata": {
        "colab": {
          "base_uri": "https://localhost:8080/",
          "height": 513
        },
        "id": "q1TR8bumA5TQ",
        "outputId": "61aa9cb2-d34c-4d75-d142-c60c7add34b3"
      },
      "source": [
        "#plotting feature importance\n",
        "fig, ax = plt.subplots(figsize=(10,8))\n",
        "plot_feature_importance(log_regression.coef_[0])"
      ],
      "execution_count": null,
      "outputs": [
        {
          "output_type": "display_data",
          "data": {
            "image/png": "[encoded data removed]",
            "text/plain": [
              "<Figure size 720x576 with 1 Axes>"
            ]
          },
          "metadata": {
            "tags": [],
            "needs_background": "light"
          }
        }
      ]
    },
    {
      "cell_type": "markdown",
      "metadata": {
        "id": "-bsOuxjnBL0b"
      },
      "source": [
        "We can observe from the graph that the most important feature is platform_os. Experiment group does not seem to have a significant effect"
      ]
    },
    {
      "cell_type": "code",
      "metadata": {
        "colab": {
          "base_uri": "https://localhost:8080/",
          "height": 391
        },
        "id": "JgiSojruBCD4",
        "outputId": "3dba3e0d-4517-4c92-8548-b5507e10c70b"
      },
      "source": [
        "#predicted values\n",
        "print_predicted(log_regression)"
      ],
      "execution_count": null,
      "outputs": [
        {
          "output_type": "execute_result",
          "data": {
            "text/html": [
              "<div>\n",
              "<style scoped>\n",
              "    .dataframe tbody tr th:only-of-type {\n",
              "        vertical-align: middle;\n",
              "    }\n",
              "\n",
              "    .dataframe tbody tr th {\n",
              "        vertical-align: top;\n",
              "    }\n",
              "\n",
              "    .dataframe thead th {\n",
              "        text-align: right;\n",
              "    }\n",
              "</style>\n",
              "<table border=\"1\" class=\"dataframe\">\n",
              "  <thead>\n",
              "    <tr style=\"text-align: right;\">\n",
              "      <th></th>\n",
              "      <th>experiment</th>\n",
              "      <th>actual</th>\n",
              "      <th>predicted</th>\n",
              "    </tr>\n",
              "  </thead>\n",
              "  <tbody>\n",
              "    <tr>\n",
              "      <th>616</th>\n",
              "      <td>1.0</td>\n",
              "      <td>1.0</td>\n",
              "      <td>0.0</td>\n",
              "    </tr>\n",
              "    <tr>\n",
              "      <th>908</th>\n",
              "      <td>0.0</td>\n",
              "      <td>0.0</td>\n",
              "      <td>0.0</td>\n",
              "    </tr>\n",
              "    <tr>\n",
              "      <th>494</th>\n",
              "      <td>1.0</td>\n",
              "      <td>0.0</td>\n",
              "      <td>0.0</td>\n",
              "    </tr>\n",
              "    <tr>\n",
              "      <th>571</th>\n",
              "      <td>1.0</td>\n",
              "      <td>1.0</td>\n",
              "      <td>0.0</td>\n",
              "    </tr>\n",
              "    <tr>\n",
              "      <th>572</th>\n",
              "      <td>1.0</td>\n",
              "      <td>1.0</td>\n",
              "      <td>1.0</td>\n",
              "    </tr>\n",
              "    <tr>\n",
              "      <th>...</th>\n",
              "      <td>...</td>\n",
              "      <td>...</td>\n",
              "      <td>...</td>\n",
              "    </tr>\n",
              "    <tr>\n",
              "      <th>88</th>\n",
              "      <td>1.0</td>\n",
              "      <td>0.0</td>\n",
              "      <td>1.0</td>\n",
              "    </tr>\n",
              "    <tr>\n",
              "      <th>768</th>\n",
              "      <td>0.0</td>\n",
              "      <td>0.0</td>\n",
              "      <td>0.0</td>\n",
              "    </tr>\n",
              "    <tr>\n",
              "      <th>1030</th>\n",
              "      <td>1.0</td>\n",
              "      <td>1.0</td>\n",
              "      <td>0.0</td>\n",
              "    </tr>\n",
              "    <tr>\n",
              "      <th>457</th>\n",
              "      <td>0.0</td>\n",
              "      <td>1.0</td>\n",
              "      <td>0.0</td>\n",
              "    </tr>\n",
              "    <tr>\n",
              "      <th>422</th>\n",
              "      <td>0.0</td>\n",
              "      <td>1.0</td>\n",
              "      <td>0.0</td>\n",
              "    </tr>\n",
              "  </tbody>\n",
              "</table>\n",
              "<p>125 rows × 3 columns</p>\n",
              "</div>"
            ],
            "text/plain": [
              "      experiment  actual  predicted\n",
              "616          1.0     1.0        0.0\n",
              "908          0.0     0.0        0.0\n",
              "494          1.0     0.0        0.0\n",
              "571          1.0     1.0        0.0\n",
              "572          1.0     1.0        1.0\n",
              "...          ...     ...        ...\n",
              "88           1.0     0.0        1.0\n",
              "768          0.0     0.0        0.0\n",
              "1030         1.0     1.0        0.0\n",
              "457          0.0     1.0        0.0\n",
              "422          0.0     1.0        0.0\n",
              "\n",
              "[125 rows x 3 columns]"
            ]
          },
          "metadata": {
            "tags": []
          },
          "execution_count": 84
        }
      ]
    },
    {
      "cell_type": "code",
      "metadata": {
        "colab": {
          "base_uri": "https://localhost:8080/"
        },
        "id": "hGxGoLr4BSMl",
        "outputId": "63aee16e-9302-4009-bf05-787e0ea9cbaf"
      },
      "source": [
        "#confusion matrix\n",
        "confusion_matrix(log_regression)"
      ],
      "execution_count": null,
      "outputs": [
        {
          "output_type": "execute_result",
          "data": {
            "text/plain": [
              "array([[65,  5],\n",
              "       [51,  4]])"
            ]
          },
          "metadata": {
            "tags": []
          },
          "execution_count": 85
        }
      ]
    },
    {
      "cell_type": "markdown",
      "metadata": {
        "id": "m87mSbfMBXt4"
      },
      "source": [
        "** Train a Decision tree model to get a better result**"
      ]
    },
    {
      "cell_type": "code",
      "metadata": {
        "colab": {
          "base_uri": "https://localhost:8080/"
        },
        "id": "2HMU7am3BULh",
        "outputId": "e62090d3-425d-4976-9f4c-8fe543b6c57f"
      },
      "source": [
        "#instantiate the model from sklearn\n",
        "d_tree = DecisionTreeClassifier()\n",
        "#fit the data\n",
        "d_tree.fit(X_train,Y_train)\n",
        "#print accuracy\n",
        "print_accuracy(d_tree)"
      ],
      "execution_count": null,
      "outputs": [
        {
          "output_type": "stream",
          "text": [
            "Accuracy: 51.28 %\n"
          ],
          "name": "stdout"
        }
      ]
    },
    {
      "cell_type": "code",
      "metadata": {
        "colab": {
          "base_uri": "https://localhost:8080/"
        },
        "id": "rmYo5v4OBcBe",
        "outputId": "7a8f6f09-f4fd-4d95-958b-5a18701502b2"
      },
      "source": [
        "#calculating loss\n",
        "calculate_loss(d_tree)"
      ],
      "execution_count": null,
      "outputs": [
        {
          "output_type": "stream",
          "text": [
            "Loss: 1101.07 %\n"
          ],
          "name": "stdout"
        }
      ]
    },
    {
      "cell_type": "code",
      "metadata": {
        "colab": {
          "base_uri": "https://localhost:8080/",
          "height": 513
        },
        "id": "3DaSOdtyBeWg",
        "outputId": "2b8a181a-07f9-4d0b-a036-1921f6997911"
      },
      "source": [
        "#plotting feature importance\n",
        "\n",
        "fig, ax = plt.subplots(figsize=(10,8))\n",
        "plot_feature_importance(d_tree.feature_importances_)"
      ],
      "execution_count": null,
      "outputs": [
        {
          "output_type": "display_data",
          "data": {
            "image/png": "[encoded data removed]",
            "text/plain": [
              "<Figure size 720x576 with 1 Axes>"
            ]
          },
          "metadata": {
            "tags": [],
            "needs_background": "light"
          }
        }
      ]
    },
    {
      "cell_type": "markdown",
      "metadata": {
        "id": "a4KRqRQYBkWA"
      },
      "source": [
        "This model is not doing very good either. In contrary to the previous observation, platform_os has the least effect on the prediction while the date and hour appear to be most important"
      ]
    },
    {
      "cell_type": "code",
      "metadata": {
        "colab": {
          "base_uri": "https://localhost:8080/",
          "height": 391
        },
        "id": "jp10zN-hBgCg",
        "outputId": "0a0edd0a-9ff7-4a7f-d12a-149faaa9fa06"
      },
      "source": [
        "#predicted values\n",
        "print_predicted(d_tree)"
      ],
      "execution_count": null,
      "outputs": [
        {
          "output_type": "execute_result",
          "data": {
            "text/html": [
              "<div>\n",
              "<style scoped>\n",
              "    .dataframe tbody tr th:only-of-type {\n",
              "        vertical-align: middle;\n",
              "    }\n",
              "\n",
              "    .dataframe tbody tr th {\n",
              "        vertical-align: top;\n",
              "    }\n",
              "\n",
              "    .dataframe thead th {\n",
              "        text-align: right;\n",
              "    }\n",
              "</style>\n",
              "<table border=\"1\" class=\"dataframe\">\n",
              "  <thead>\n",
              "    <tr style=\"text-align: right;\">\n",
              "      <th></th>\n",
              "      <th>experiment</th>\n",
              "      <th>actual</th>\n",
              "      <th>predicted</th>\n",
              "    </tr>\n",
              "  </thead>\n",
              "  <tbody>\n",
              "    <tr>\n",
              "      <th>616</th>\n",
              "      <td>1.0</td>\n",
              "      <td>1.0</td>\n",
              "      <td>0.0</td>\n",
              "    </tr>\n",
              "    <tr>\n",
              "      <th>908</th>\n",
              "      <td>0.0</td>\n",
              "      <td>0.0</td>\n",
              "      <td>0.0</td>\n",
              "    </tr>\n",
              "    <tr>\n",
              "      <th>494</th>\n",
              "      <td>1.0</td>\n",
              "      <td>0.0</td>\n",
              "      <td>1.0</td>\n",
              "    </tr>\n",
              "    <tr>\n",
              "      <th>571</th>\n",
              "      <td>1.0</td>\n",
              "      <td>1.0</td>\n",
              "      <td>0.0</td>\n",
              "    </tr>\n",
              "    <tr>\n",
              "      <th>572</th>\n",
              "      <td>1.0</td>\n",
              "      <td>1.0</td>\n",
              "      <td>0.0</td>\n",
              "    </tr>\n",
              "    <tr>\n",
              "      <th>...</th>\n",
              "      <td>...</td>\n",
              "      <td>...</td>\n",
              "      <td>...</td>\n",
              "    </tr>\n",
              "    <tr>\n",
              "      <th>88</th>\n",
              "      <td>1.0</td>\n",
              "      <td>0.0</td>\n",
              "      <td>0.0</td>\n",
              "    </tr>\n",
              "    <tr>\n",
              "      <th>768</th>\n",
              "      <td>0.0</td>\n",
              "      <td>0.0</td>\n",
              "      <td>0.0</td>\n",
              "    </tr>\n",
              "    <tr>\n",
              "      <th>1030</th>\n",
              "      <td>1.0</td>\n",
              "      <td>1.0</td>\n",
              "      <td>0.0</td>\n",
              "    </tr>\n",
              "    <tr>\n",
              "      <th>457</th>\n",
              "      <td>0.0</td>\n",
              "      <td>1.0</td>\n",
              "      <td>1.0</td>\n",
              "    </tr>\n",
              "    <tr>\n",
              "      <th>422</th>\n",
              "      <td>0.0</td>\n",
              "      <td>1.0</td>\n",
              "      <td>0.0</td>\n",
              "    </tr>\n",
              "  </tbody>\n",
              "</table>\n",
              "<p>125 rows × 3 columns</p>\n",
              "</div>"
            ],
            "text/plain": [
              "      experiment  actual  predicted\n",
              "616          1.0     1.0        0.0\n",
              "908          0.0     0.0        0.0\n",
              "494          1.0     0.0        1.0\n",
              "571          1.0     1.0        0.0\n",
              "572          1.0     1.0        0.0\n",
              "...          ...     ...        ...\n",
              "88           1.0     0.0        0.0\n",
              "768          0.0     0.0        0.0\n",
              "1030         1.0     1.0        0.0\n",
              "457          0.0     1.0        1.0\n",
              "422          0.0     1.0        0.0\n",
              "\n",
              "[125 rows x 3 columns]"
            ]
          },
          "metadata": {
            "tags": []
          },
          "execution_count": 90
        }
      ]
    },
    {
      "cell_type": "code",
      "metadata": {
        "colab": {
          "base_uri": "https://localhost:8080/"
        },
        "id": "jnnSS8D8Byda",
        "outputId": "d7b2355d-9332-47fc-c1c8-842095e6a087"
      },
      "source": [
        "#confusion matrix\n",
        "confusion_matrix(d_tree)"
      ],
      "execution_count": null,
      "outputs": [
        {
          "output_type": "execute_result",
          "data": {
            "text/plain": [
              "array([[40, 30],\n",
              "       [36, 19]])"
            ]
          },
          "metadata": {
            "tags": []
          },
          "execution_count": 91
        }
      ]
    },
    {
      "cell_type": "markdown",
      "metadata": {
        "id": "_sOvus36B5NB"
      },
      "source": [
        "Let's use an XG Boost model and see if it can perform any better"
      ]
    },
    {
      "cell_type": "code",
      "metadata": {
        "colab": {
          "base_uri": "https://localhost:8080/"
        },
        "id": "lsJ8PBP_B0zj",
        "outputId": "2c2d158a-55f4-42e5-9b01-29ea347cb3cc"
      },
      "source": [
        "#instantiate model\n",
        "data_dmatrix = xgb.DMatrix(data=X_train,label=Y_train)\n",
        "xg_boost = xgb.XGBClassifier()\n",
        "#fit the data\n",
        "xg_boost.fit(X_train,Y_train)\n",
        "#print accuracy\n",
        "print_accuracy(xg_boost)"
      ],
      "execution_count": null,
      "outputs": [
        {
          "output_type": "stream",
          "text": [
            "Accuracy: 51.40 %\n"
          ],
          "name": "stdout"
        }
      ]
    },
    {
      "cell_type": "code",
      "metadata": {
        "colab": {
          "base_uri": "https://localhost:8080/"
        },
        "id": "H9tIfyJ7B8Eg",
        "outputId": "5db70676-eeba-4928-ac34-bd682ffff24c"
      },
      "source": [
        "#calculating loss\n",
        "calculate_loss(xg_boost)"
      ],
      "execution_count": null,
      "outputs": [
        {
          "output_type": "stream",
          "text": [
            "Loss: 72.45 %\n"
          ],
          "name": "stdout"
        }
      ]
    },
    {
      "cell_type": "code",
      "metadata": {
        "colab": {
          "base_uri": "https://localhost:8080/",
          "height": 513
        },
        "id": "pDv0f4zpB-Mu",
        "outputId": "e56d1fb8-9870-4c9d-8381-d2fb1ad2e92c"
      },
      "source": [
        "#plotting feature importance\n",
        "\n",
        "fig, ax = plt.subplots(figsize=(10,8))\n",
        "plot_feature_importance(xg_boost.feature_importances_)"
      ],
      "execution_count": null,
      "outputs": [
        {
          "output_type": "display_data",
          "data": {
            "image/png": "[encoded data removed]",
            "text/plain": [
              "<Figure size 720x576 with 1 Axes>"
            ]
          },
          "metadata": {
            "tags": [],
            "needs_background": "light"
          }
        }
      ]
    },
    {
      "cell_type": "markdown",
      "metadata": {
        "id": "kCRdGItgCdUH"
      },
      "source": [
        "The accuracy of this model is similar to the previous models, but it now shows that experiment group is driving the model along with browser type and hour of response"
      ]
    },
    {
      "cell_type": "code",
      "metadata": {
        "colab": {
          "base_uri": "https://localhost:8080/",
          "height": 391
        },
        "id": "0LISuvY7CB1N",
        "outputId": "d224dd92-c227-4637-f8cb-7c46e3893f8a"
      },
      "source": [
        "#predicted values\n",
        "print_predicted(xg_boost)"
      ],
      "execution_count": null,
      "outputs": [
        {
          "output_type": "execute_result",
          "data": {
            "text/html": [
              "<div>\n",
              "<style scoped>\n",
              "    .dataframe tbody tr th:only-of-type {\n",
              "        vertical-align: middle;\n",
              "    }\n",
              "\n",
              "    .dataframe tbody tr th {\n",
              "        vertical-align: top;\n",
              "    }\n",
              "\n",
              "    .dataframe thead th {\n",
              "        text-align: right;\n",
              "    }\n",
              "</style>\n",
              "<table border=\"1\" class=\"dataframe\">\n",
              "  <thead>\n",
              "    <tr style=\"text-align: right;\">\n",
              "      <th></th>\n",
              "      <th>experiment</th>\n",
              "      <th>actual</th>\n",
              "      <th>predicted</th>\n",
              "    </tr>\n",
              "  </thead>\n",
              "  <tbody>\n",
              "    <tr>\n",
              "      <th>616</th>\n",
              "      <td>1.0</td>\n",
              "      <td>1.0</td>\n",
              "      <td>0.0</td>\n",
              "    </tr>\n",
              "    <tr>\n",
              "      <th>908</th>\n",
              "      <td>0.0</td>\n",
              "      <td>0.0</td>\n",
              "      <td>0.0</td>\n",
              "    </tr>\n",
              "    <tr>\n",
              "      <th>494</th>\n",
              "      <td>1.0</td>\n",
              "      <td>0.0</td>\n",
              "      <td>0.0</td>\n",
              "    </tr>\n",
              "    <tr>\n",
              "      <th>571</th>\n",
              "      <td>1.0</td>\n",
              "      <td>1.0</td>\n",
              "      <td>0.0</td>\n",
              "    </tr>\n",
              "    <tr>\n",
              "      <th>572</th>\n",
              "      <td>1.0</td>\n",
              "      <td>1.0</td>\n",
              "      <td>0.0</td>\n",
              "    </tr>\n",
              "    <tr>\n",
              "      <th>...</th>\n",
              "      <td>...</td>\n",
              "      <td>...</td>\n",
              "      <td>...</td>\n",
              "    </tr>\n",
              "    <tr>\n",
              "      <th>88</th>\n",
              "      <td>1.0</td>\n",
              "      <td>0.0</td>\n",
              "      <td>0.0</td>\n",
              "    </tr>\n",
              "    <tr>\n",
              "      <th>768</th>\n",
              "      <td>0.0</td>\n",
              "      <td>0.0</td>\n",
              "      <td>0.0</td>\n",
              "    </tr>\n",
              "    <tr>\n",
              "      <th>1030</th>\n",
              "      <td>1.0</td>\n",
              "      <td>1.0</td>\n",
              "      <td>1.0</td>\n",
              "    </tr>\n",
              "    <tr>\n",
              "      <th>457</th>\n",
              "      <td>0.0</td>\n",
              "      <td>1.0</td>\n",
              "      <td>0.0</td>\n",
              "    </tr>\n",
              "    <tr>\n",
              "      <th>422</th>\n",
              "      <td>0.0</td>\n",
              "      <td>1.0</td>\n",
              "      <td>0.0</td>\n",
              "    </tr>\n",
              "  </tbody>\n",
              "</table>\n",
              "<p>125 rows × 3 columns</p>\n",
              "</div>"
            ],
            "text/plain": [
              "      experiment  actual  predicted\n",
              "616          1.0     1.0        0.0\n",
              "908          0.0     0.0        0.0\n",
              "494          1.0     0.0        0.0\n",
              "571          1.0     1.0        0.0\n",
              "572          1.0     1.0        0.0\n",
              "...          ...     ...        ...\n",
              "88           1.0     0.0        0.0\n",
              "768          0.0     0.0        0.0\n",
              "1030         1.0     1.0        1.0\n",
              "457          0.0     1.0        0.0\n",
              "422          0.0     1.0        0.0\n",
              "\n",
              "[125 rows x 3 columns]"
            ]
          },
          "metadata": {
            "tags": []
          },
          "execution_count": 95
        }
      ]
    },
    {
      "cell_type": "code",
      "metadata": {
        "colab": {
          "base_uri": "https://localhost:8080/"
        },
        "id": "5sKIojgXCghX",
        "outputId": "4616ddb3-aa69-4253-e734-d9c5e1f2cf4f"
      },
      "source": [
        "#confusion matrix\n",
        "confusion_matrix(xg_boost)"
      ],
      "execution_count": null,
      "outputs": [
        {
          "output_type": "execute_result",
          "data": {
            "text/plain": [
              "array([[49, 21],\n",
              "       [44, 11]])"
            ]
          },
          "metadata": {
            "tags": []
          },
          "execution_count": 97
        }
      ]
    },
    {
      "cell_type": "code",
      "metadata": {
        "id": "qJbCNyx8Ckmu"
      },
      "source": [
        ""
      ],
      "execution_count": null,
      "outputs": []
    }
  ]
}